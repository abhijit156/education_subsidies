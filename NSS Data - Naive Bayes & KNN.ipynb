{
 "cells": [
  {
   "cell_type": "code",
   "execution_count": 1,
   "metadata": {},
   "outputs": [],
   "source": [
    "import pandas as pd\n",
    "import sklearn as sk\n",
    "import numpy as np\n",
    "import matplotlib.pyplot as plt\n",
    "import os\n",
    "\n",
    "path = 'D:\\\\MS 2.0\\\\NSS Project + Data\\\\Latest Implementation\\\\Data & understanding'\n",
    "os.chdir(path)"
   ]
  },
  {
   "cell_type": "markdown",
   "metadata": {},
   "source": [
    "### The objective is to utilize household_characteristics file (containing socio-economic variables) like primary occupation, consumer expenditure, social group, distance to nearest school, whether house has computer/internet as features in a Naive Bayes classifier to identify students at higher risk of dropping out. \n",
    "\n",
    "### Household_members consists of particulars of each individual within household and their relation to the head of household\n",
    "\n",
    "### Dropouts contains particulars of individuals aged 5-29 who discontinued their education"
   ]
  },
  {
   "cell_type": "markdown",
   "metadata": {},
   "source": [
    "# Reading the input data files"
   ]
  },
  {
   "cell_type": "code",
   "execution_count": 2,
   "metadata": {},
   "outputs": [],
   "source": [
    "household_id = pd.read_csv(\"Household_identification.csv\")\n",
    "household_char = pd.read_csv(\"Household_characteristics.csv\")\n",
    "household_mem = pd.read_csv(\"Household_members.csv\")\n",
    "dropouts = pd.read_csv(\"Particulars_of_dropouts.csv\")"
   ]
  },
  {
   "cell_type": "markdown",
   "metadata": {},
   "source": [
    "# Household characteristics - retaining necessary information, data transformation"
   ]
  },
  {
   "cell_type": "code",
   "execution_count": 3,
   "metadata": {},
   "outputs": [],
   "source": [
    "household_char = household_char[['HSIZE','HTYPE','SG_CD',\"DISTANCE_PRM\",\"DISTANCE_UPP_PRM\",\"DISTANCE_SEC\",'WHE_HH_COMP',\n",
    "                                 'WHE_HH_INT','HH_CONS_EXP','ID_KEY']]\n",
    "household_char.head(5)\n",
    "\n",
    "#Checking distribution for 'Household Consumer Expenditure' and bucketing into 5 distinct groups\n",
    "household_char['HH_CONS_EXP'].describe()\n",
    "household_char['CONS_EXP_BUCKET'] = pd.qcut(household_char['HH_CONS_EXP'], 5, labels = False) "
   ]
  },
  {
   "cell_type": "markdown",
   "metadata": {},
   "source": [
    "# Dropouts - Data cleaning"
   ]
  },
  {
   "cell_type": "code",
   "execution_count": 4,
   "metadata": {
    "scrolled": true
   },
   "outputs": [],
   "source": [
    "dropouts.head(5)\n",
    "\n",
    "dropouts.dropna(subset = [\"SR_NO\"], inplace=True)\n",
    "dropouts['SR_NO'] = dropouts['SR_NO'].astype(int)\n",
    "\n",
    "dropouts.dropna(subset = [\"CLASS_COMPLETED\"], inplace=True)\n",
    "dropouts['CLASS_COMPLETED'] = dropouts['CLASS_COMPLETED'].astype(int) "
   ]
  },
  {
   "cell_type": "code",
   "execution_count": 5,
   "metadata": {},
   "outputs": [],
   "source": [
    "#We have particulars of dropouts in the age bracket of 5-29 years. Carrying out data cleaning steps to ensure consistency\n",
    "dropouts.head(5)\n",
    "dropouts.shape\n",
    "\n",
    "dropouts = dropouts[(dropouts['AGE'] >= 5) & (dropouts['AGE'] <= 29)]\n",
    "\n",
    "#Checking to see if column 'Enrolment Age' makes sense with respect to column 'Level enroled in'\n",
    "check = dropouts.groupby([\"LEVEL_CD\"])['ENROLLED_AGE_FIRST'].mean()\n",
    "\n",
    "#Based on definitions of 'Level enroled' codes, it is not possible for codes 11,13,14,15,16 to have avg enrolment age of 5.\n",
    "#Hence, we remove those codes considering them as noise in our data\n",
    "\n",
    "dropouts = dropouts[(dropouts['LEVEL_CD'] != 11) & (dropouts['LEVEL_CD'] != 13) & (dropouts['LEVEL_CD'] != 14) & \n",
    "                   (dropouts['LEVEL_CD'] != 15) & (dropouts['LEVEL_CD'] != 16)]\n",
    "\n",
    "dropouts['LEVEL_CD'].unique()\n",
    "\n",
    "# Since we are focusing on school level dropouts for now, we can filter 'Class Completed' for classes 1 through 10\n",
    "\n",
    "dropouts = dropouts[(dropouts['CLASS_COMPLETED'] >= 1) & (dropouts['CLASS_COMPLETED'] <= 10) ]\n",
    "dropouts.shape\n",
    "\n",
    "# Create unique identifier for each individual using ID_KEY (Household Key) and Sr_No (Household member ID)\n",
    "dropouts['Individual_ID'] = dropouts[\"ID_KEY\"].astype(str) + dropouts[\"SR_NO\"].astype(str)"
   ]
  },
  {
   "cell_type": "markdown",
   "metadata": {},
   "source": [
    "# Household members - Data cleaning, Feature Engineering"
   ]
  },
  {
   "cell_type": "code",
   "execution_count": 6,
   "metadata": {},
   "outputs": [
    {
     "data": {
      "text/html": [
       "<div>\n",
       "<style scoped>\n",
       "    .dataframe tbody tr th:only-of-type {\n",
       "        vertical-align: middle;\n",
       "    }\n",
       "\n",
       "    .dataframe tbody tr th {\n",
       "        vertical-align: top;\n",
       "    }\n",
       "\n",
       "    .dataframe thead th {\n",
       "        text-align: right;\n",
       "    }\n",
       "</style>\n",
       "<table border=\"1\" class=\"dataframe\">\n",
       "  <thead>\n",
       "    <tr style=\"text-align: right;\">\n",
       "      <th></th>\n",
       "      <th>SR_NO</th>\n",
       "      <th>REL_HEAD</th>\n",
       "      <th>SEX</th>\n",
       "      <th>AGE</th>\n",
       "      <th>MARTIAL_STATUS_CD</th>\n",
       "      <th>EDUCATION_LVL_CD</th>\n",
       "      <th>ABL_OPR_COMP</th>\n",
       "      <th>ABL_USE_COM_TYP</th>\n",
       "      <th>ABL_USE_INT_SURF</th>\n",
       "      <th>ABL_USE_INT_MAIL</th>\n",
       "      <th>CUR_EDU_STATUS</th>\n",
       "      <th>WHE_RESI_HOSTEL</th>\n",
       "      <th>CUR_EDU_ENROLL_STATUS</th>\n",
       "      <th>SRL_NO</th>\n",
       "      <th>ELE_NO</th>\n",
       "      <th>BLK</th>\n",
       "      <th>ROUND</th>\n",
       "      <th>ID_KEY</th>\n",
       "    </tr>\n",
       "  </thead>\n",
       "  <tbody>\n",
       "    <tr>\n",
       "      <th>0</th>\n",
       "      <td>1.0</td>\n",
       "      <td>1.0</td>\n",
       "      <td>1.0</td>\n",
       "      <td>45.0</td>\n",
       "      <td>2.0</td>\n",
       "      <td>15.0</td>\n",
       "      <td>2.0</td>\n",
       "      <td>NaN</td>\n",
       "      <td>NaN</td>\n",
       "      <td>NaN</td>\n",
       "      <td>NaN</td>\n",
       "      <td>NaN</td>\n",
       "      <td>NaN</td>\n",
       "      <td>1</td>\n",
       "      <td>1</td>\n",
       "      <td>4</td>\n",
       "      <td>71</td>\n",
       "      <td>965938</td>\n",
       "    </tr>\n",
       "  </tbody>\n",
       "</table>\n",
       "</div>"
      ],
      "text/plain": [
       "   SR_NO  REL_HEAD  SEX   AGE  MARTIAL_STATUS_CD  EDUCATION_LVL_CD  \\\n",
       "0    1.0       1.0  1.0  45.0                2.0              15.0   \n",
       "\n",
       "   ABL_OPR_COMP  ABL_USE_COM_TYP  ABL_USE_INT_SURF  ABL_USE_INT_MAIL  \\\n",
       "0           2.0              NaN               NaN               NaN   \n",
       "\n",
       "   CUR_EDU_STATUS  WHE_RESI_HOSTEL  CUR_EDU_ENROLL_STATUS  SRL_NO  ELE_NO  \\\n",
       "0             NaN              NaN                    NaN       1       1   \n",
       "\n",
       "   BLK  ROUND  ID_KEY  \n",
       "0    4     71  965938  "
      ]
     },
     "execution_count": 6,
     "metadata": {},
     "output_type": "execute_result"
    }
   ],
   "source": [
    "household_mem.head(1)"
   ]
  },
  {
   "cell_type": "code",
   "execution_count": 7,
   "metadata": {},
   "outputs": [],
   "source": [
    "# Since we are only looking at individuals who are either currently studying or recently left the education system,\n",
    "# we filter for ages between 5 and 29 and filtering out necessary columns\n",
    "\n",
    "household_mem.head(5)\n",
    "household_mem.dropna(subset = [\"SR_NO\"], inplace=True)\n",
    "\n",
    "household_mem['SR_NO'] = household_mem['SR_NO'].astype(int)\n",
    "\n",
    "household_mem = household_mem[(household_mem['AGE'] >= 5) & (household_mem['AGE'] <= 29)]\n",
    "household_mem = household_mem[['SR_NO','REL_HEAD','SEX','AGE','MARTIAL_STATUS_CD','CUR_EDU_STATUS','WHE_RESI_HOSTEL','CUR_EDU_ENROLL_STATUS','ID_KEY']]\n",
    "\n",
    "# To train our Naive Bayes classifier, let us consider a list of students who are currently unenroled,\n",
    "# and students who are currently enroled upto higher secondary level\n",
    "household_mem = household_mem[(household_mem[\"CUR_EDU_ENROLL_STATUS\"] >= 1) & (household_mem[\"CUR_EDU_ENROLL_STATUS\"] <= 13)] \n",
    "\n",
    "# Create unique identifier for each individual using ID_KEY (Household Key) and Sr_No (Household member ID)\n",
    "household_mem['Individual_ID'] = household_mem[\"ID_KEY\"].astype(str) + household_mem[\"SR_NO\"].astype(str)"
   ]
  },
  {
   "cell_type": "code",
   "execution_count": 8,
   "metadata": {},
   "outputs": [
    {
     "data": {
      "text/plain": [
       "(4398, 10)"
      ]
     },
     "execution_count": 8,
     "metadata": {},
     "output_type": "execute_result"
    }
   ],
   "source": [
    "household_mem.shape"
   ]
  },
  {
   "cell_type": "markdown",
   "metadata": {},
   "source": [
    "# Combining all above data frames to get base data for Naive Bayes "
   ]
  },
  {
   "cell_type": "code",
   "execution_count": 9,
   "metadata": {},
   "outputs": [],
   "source": [
    "dropouts = dropouts[['Individual_ID','CLASS_COMPLETED']]\n",
    "household_char = household_char[['HSIZE','HTYPE','SG_CD',\"DISTANCE_PRM\",\"DISTANCE_UPP_PRM\",\n",
    "                                 \"DISTANCE_SEC\",'WHE_HH_COMP','WHE_HH_INT','CONS_EXP_BUCKET','ID_KEY']]"
   ]
  },
  {
   "cell_type": "code",
   "execution_count": 10,
   "metadata": {},
   "outputs": [
    {
     "data": {
      "text/plain": [
       "Dropout\n",
       "0    2536\n",
       "1    1862\n",
       "Name: Individual_ID, dtype: int64"
      ]
     },
     "execution_count": 10,
     "metadata": {},
     "output_type": "execute_result"
    }
   ],
   "source": [
    "#Getting particulars of dropouts and characteristics of the household into a single data frame\n",
    "combined_data = pd.merge(household_mem, dropouts, how = 'left', on = 'Individual_ID')\n",
    "combined_data = pd.merge(combined_data, household_char, how = 'left', on = 'ID_KEY')\n",
    "combined_data.head(10)\n",
    "\n",
    "#Adding a flag for dropouts in our dataset. 1 for dropout, 0 for not (This will be our Target variable for Naive Bayes model)\n",
    "combined_data['Dropout'] = [1 if x in [1,2,3,4,5,6,7,8,9,10] else 0 for x in combined_data[\"CLASS_COMPLETED\"]]\n",
    "combined_data.head(20)\n",
    "combined_data.groupby('Dropout')['Individual_ID'].nunique()"
   ]
  },
  {
   "cell_type": "code",
   "execution_count": 11,
   "metadata": {
    "scrolled": true
   },
   "outputs": [
    {
     "data": {
      "text/html": [
       "<div>\n",
       "<style scoped>\n",
       "    .dataframe tbody tr th:only-of-type {\n",
       "        vertical-align: middle;\n",
       "    }\n",
       "\n",
       "    .dataframe tbody tr th {\n",
       "        vertical-align: top;\n",
       "    }\n",
       "\n",
       "    .dataframe thead th {\n",
       "        text-align: right;\n",
       "    }\n",
       "</style>\n",
       "<table border=\"1\" class=\"dataframe\">\n",
       "  <thead>\n",
       "    <tr style=\"text-align: right;\">\n",
       "      <th></th>\n",
       "      <th>REL_HEAD</th>\n",
       "      <th>SEX</th>\n",
       "      <th>AGE</th>\n",
       "      <th>MARTIAL_STATUS_CD</th>\n",
       "      <th>HSIZE</th>\n",
       "      <th>HTYPE</th>\n",
       "      <th>SG_CD</th>\n",
       "      <th>DISTANCE_PRM</th>\n",
       "      <th>DISTANCE_UPP_PRM</th>\n",
       "      <th>DISTANCE_SEC</th>\n",
       "      <th>WHE_HH_COMP</th>\n",
       "      <th>WHE_HH_INT</th>\n",
       "      <th>CONS_EXP_BUCKET</th>\n",
       "      <th>Dropout</th>\n",
       "    </tr>\n",
       "  </thead>\n",
       "  <tbody>\n",
       "    <tr>\n",
       "      <th>0</th>\n",
       "      <td>2.0</td>\n",
       "      <td>2.0</td>\n",
       "      <td>25.0</td>\n",
       "      <td>2.0</td>\n",
       "      <td>2.0</td>\n",
       "      <td>1.0</td>\n",
       "      <td>9.0</td>\n",
       "      <td>1.0</td>\n",
       "      <td>2.0</td>\n",
       "      <td>2.0</td>\n",
       "      <td>2.0</td>\n",
       "      <td>2.0</td>\n",
       "      <td>0.0</td>\n",
       "      <td>1</td>\n",
       "    </tr>\n",
       "    <tr>\n",
       "      <th>1</th>\n",
       "      <td>5.0</td>\n",
       "      <td>1.0</td>\n",
       "      <td>21.0</td>\n",
       "      <td>1.0</td>\n",
       "      <td>4.0</td>\n",
       "      <td>1.0</td>\n",
       "      <td>3.0</td>\n",
       "      <td>1.0</td>\n",
       "      <td>1.0</td>\n",
       "      <td>1.0</td>\n",
       "      <td>2.0</td>\n",
       "      <td>2.0</td>\n",
       "      <td>1.0</td>\n",
       "      <td>1</td>\n",
       "    </tr>\n",
       "    <tr>\n",
       "      <th>2</th>\n",
       "      <td>5.0</td>\n",
       "      <td>1.0</td>\n",
       "      <td>12.0</td>\n",
       "      <td>1.0</td>\n",
       "      <td>5.0</td>\n",
       "      <td>1.0</td>\n",
       "      <td>9.0</td>\n",
       "      <td>1.0</td>\n",
       "      <td>2.0</td>\n",
       "      <td>2.0</td>\n",
       "      <td>2.0</td>\n",
       "      <td>2.0</td>\n",
       "      <td>0.0</td>\n",
       "      <td>0</td>\n",
       "    </tr>\n",
       "    <tr>\n",
       "      <th>3</th>\n",
       "      <td>5.0</td>\n",
       "      <td>1.0</td>\n",
       "      <td>16.0</td>\n",
       "      <td>1.0</td>\n",
       "      <td>5.0</td>\n",
       "      <td>1.0</td>\n",
       "      <td>9.0</td>\n",
       "      <td>1.0</td>\n",
       "      <td>2.0</td>\n",
       "      <td>2.0</td>\n",
       "      <td>2.0</td>\n",
       "      <td>2.0</td>\n",
       "      <td>0.0</td>\n",
       "      <td>0</td>\n",
       "    </tr>\n",
       "    <tr>\n",
       "      <th>4</th>\n",
       "      <td>5.0</td>\n",
       "      <td>2.0</td>\n",
       "      <td>10.0</td>\n",
       "      <td>1.0</td>\n",
       "      <td>5.0</td>\n",
       "      <td>1.0</td>\n",
       "      <td>9.0</td>\n",
       "      <td>1.0</td>\n",
       "      <td>2.0</td>\n",
       "      <td>2.0</td>\n",
       "      <td>2.0</td>\n",
       "      <td>2.0</td>\n",
       "      <td>0.0</td>\n",
       "      <td>0</td>\n",
       "    </tr>\n",
       "  </tbody>\n",
       "</table>\n",
       "</div>"
      ],
      "text/plain": [
       "   REL_HEAD  SEX   AGE  MARTIAL_STATUS_CD  HSIZE  HTYPE  SG_CD  DISTANCE_PRM  \\\n",
       "0       2.0  2.0  25.0                2.0    2.0    1.0    9.0           1.0   \n",
       "1       5.0  1.0  21.0                1.0    4.0    1.0    3.0           1.0   \n",
       "2       5.0  1.0  12.0                1.0    5.0    1.0    9.0           1.0   \n",
       "3       5.0  1.0  16.0                1.0    5.0    1.0    9.0           1.0   \n",
       "4       5.0  2.0  10.0                1.0    5.0    1.0    9.0           1.0   \n",
       "\n",
       "   DISTANCE_UPP_PRM  DISTANCE_SEC  WHE_HH_COMP  WHE_HH_INT  CONS_EXP_BUCKET  \\\n",
       "0               2.0           2.0          2.0         2.0              0.0   \n",
       "1               1.0           1.0          2.0         2.0              1.0   \n",
       "2               2.0           2.0          2.0         2.0              0.0   \n",
       "3               2.0           2.0          2.0         2.0              0.0   \n",
       "4               2.0           2.0          2.0         2.0              0.0   \n",
       "\n",
       "   Dropout  \n",
       "0        1  \n",
       "1        1  \n",
       "2        0  \n",
       "3        0  \n",
       "4        0  "
      ]
     },
     "execution_count": 11,
     "metadata": {},
     "output_type": "execute_result"
    }
   ],
   "source": [
    "combined_data.head()\n",
    "\n",
    "NB_data = combined_data[[\"REL_HEAD\",\"SEX\",\"AGE\",\"MARTIAL_STATUS_CD\",\"HSIZE\",\"HTYPE\",\"SG_CD\",'DISTANCE_PRM','DISTANCE_UPP_PRM',\n",
    "                         'DISTANCE_SEC','WHE_HH_COMP','WHE_HH_INT','CONS_EXP_BUCKET',\"Dropout\"]]\n",
    "NB_data = NB_data.dropna()\n",
    "NB_data.head(5)"
   ]
  },
  {
   "cell_type": "markdown",
   "metadata": {},
   "source": [
    "# PCA for dimensionality reduction"
   ]
  },
  {
   "cell_type": "code",
   "execution_count": 12,
   "metadata": {},
   "outputs": [],
   "source": [
    "from sklearn.decomposition import PCA\n",
    "from matplotlib import style"
   ]
  },
  {
   "cell_type": "code",
   "execution_count": 13,
   "metadata": {},
   "outputs": [],
   "source": [
    "features = list(zip(NB_data['REL_HEAD'],NB_data['SEX'],NB_data['HSIZE'],NB_data['AGE'], NB_data['MARTIAL_STATUS_CD'],\n",
    "                    NB_data['HTYPE'],NB_data['SG_CD'],NB_data['DISTANCE_PRM'],NB_data['DISTANCE_SEC'],NB_data['WHE_HH_COMP'],\n",
    "                    NB_data['WHE_HH_INT'],NB_data['CONS_EXP_BUCKET']))\n",
    "\n",
    "label = NB_data['Dropout']"
   ]
  },
  {
   "cell_type": "code",
   "execution_count": 14,
   "metadata": {},
   "outputs": [
    {
     "data": {
      "image/png": "[encoded data removed]",
      "text/plain": [
       "<Figure size 720x720 with 1 Axes>"
      ]
     },
     "metadata": {
      "needs_background": "light"
     },
     "output_type": "display_data"
    }
   ],
   "source": [
    "PCA_model = PCA(n_components=12,random_state=42)\n",
    "\n",
    "data_transformed = PCA_model.fit_transform(NB_data,label)*(-1)\n",
    "\n",
    "\n",
    "fig = plt.figure(figsize=(10,10))\n",
    "ax0 = fig.add_subplot(111)\n",
    "\n",
    "\n",
    "ax0.scatter(data_transformed.T[0],data_transformed.T[1])\n",
    "for l,c in zip((np.unique(label)),['red','green','blue']):\n",
    "    ax0.scatter(data_transformed.T[0,label==l],data_transformed.T[1,label==l],c=c,label=l)\n",
    "\n",
    "ax0.legend()\n",
    "\n",
    "\n",
    "\n",
    "plt.show()"
   ]
  },
  {
   "cell_type": "code",
   "execution_count": 15,
   "metadata": {},
   "outputs": [
    {
     "data": {
      "text/plain": [
       "array([[ 4.47782714,  2.7830753 ,  4.29123626, ..., -0.07380668,\n",
       "        -0.13845775,  0.22286602],\n",
       "       [-0.16934695, -2.59604969,  1.34465139, ...,  0.73813007,\n",
       "        -0.17525905, -0.01062422],\n",
       "       [-8.86330389,  3.60833423,  1.27075582, ...,  0.2461769 ,\n",
       "         0.31181072,  0.26865077],\n",
       "       ...,\n",
       "       [-4.15153475, -3.11994281,  0.07016801, ..., -0.55859379,\n",
       "         0.09612373,  0.07914597],\n",
       "       [ 6.09392344,  3.2712023 ,  1.04470989, ...,  0.13188191,\n",
       "         0.28041893,  0.13537722],\n",
       "       [ 8.07338345,  3.17850448,  0.97012463, ...,  0.11917813,\n",
       "         0.31101497,  0.13021624]])"
      ]
     },
     "execution_count": 15,
     "metadata": {},
     "output_type": "execute_result"
    }
   ],
   "source": [
    "data_transformed"
   ]
  },
  {
   "cell_type": "markdown",
   "metadata": {},
   "source": [
    "# Naive Bayes Model"
   ]
  },
  {
   "cell_type": "code",
   "execution_count": 16,
   "metadata": {},
   "outputs": [],
   "source": [
    "from sklearn.model_selection import train_test_split\n",
    "from sklearn.metrics import confusion_matrix"
   ]
  },
  {
   "cell_type": "code",
   "execution_count": 17,
   "metadata": {},
   "outputs": [],
   "source": [
    "X_train, X_test, y_train, y_test = train_test_split(data_transformed, label, test_size=0.2,random_state=109)"
   ]
  },
  {
   "cell_type": "code",
   "execution_count": 18,
   "metadata": {},
   "outputs": [],
   "source": [
    "from sklearn.naive_bayes import GaussianNB\n",
    "model = GaussianNB()\n",
    "y_pred = model.fit(X_train,y_train).predict(X_test)\n",
    "y_prob = model.fit(X_train,y_train).predict_proba(X_test)"
   ]
  },
  {
   "cell_type": "code",
   "execution_count": 19,
   "metadata": {},
   "outputs": [
    {
     "name": "stdout",
     "output_type": "stream",
     "text": [
      "Number of mislabeled points out of a total 861 points : 3\n"
     ]
    }
   ],
   "source": [
    "print(\"Number of mislabeled points out of a total %d points : %d\"\n",
    "       % (len(X_test), (y_test != y_pred).sum()))\n",
    "\n",
    "#y_pred"
   ]
  },
  {
   "cell_type": "code",
   "execution_count": 20,
   "metadata": {},
   "outputs": [
    {
     "data": {
      "text/plain": [
       "array([[512,   0],\n",
       "       [  3, 346]], dtype=int64)"
      ]
     },
     "execution_count": 20,
     "metadata": {},
     "output_type": "execute_result"
    }
   ],
   "source": [
    "confusion_matrix(y_test, y_pred)"
   ]
  },
  {
   "cell_type": "code",
   "execution_count": 21,
   "metadata": {},
   "outputs": [
    {
     "data": {
      "text/plain": [
       "numpy.ndarray"
      ]
     },
     "execution_count": 21,
     "metadata": {},
     "output_type": "execute_result"
    }
   ],
   "source": [
    "type(y_prob)"
   ]
  },
  {
   "cell_type": "code",
   "execution_count": 22,
   "metadata": {
    "scrolled": true
   },
   "outputs": [
    {
     "data": {
      "text/plain": [
       "(861, 16)"
      ]
     },
     "execution_count": 22,
     "metadata": {},
     "output_type": "execute_result"
    }
   ],
   "source": [
    "Testing_data = np.column_stack((X_test, y_test, y_pred, y_prob))\n",
    "Testing_data.shape"
   ]
  },
  {
   "cell_type": "code",
   "execution_count": 23,
   "metadata": {},
   "outputs": [],
   "source": [
    "Testing_output = pd.DataFrame({'Feature1': Testing_data[:, 0], 'Feature2': Testing_data[:, 1], 'Feature3': Testing_data[:, 2],\n",
    "                               'Feature4': Testing_data[:, 3],'Feature5': Testing_data[:, 4],'Feature6': Testing_data[:, 5],\n",
    "                               'Feature7': Testing_data[:, 6],'Feature8': Testing_data[:, 7],'Feature9': Testing_data[:, 8],\n",
    "                               'Feature10': Testing_data[:, 9],'Feature11': Testing_data[:, 10],'Feature12': Testing_data[:, 11],\n",
    "                               'Dropout_Flag': Testing_data[:, 12],'Dropout_Prediction': Testing_data[:, 13],\n",
    "                               'Probability_0': Testing_data[:, 14],'Probability_1': Testing_data[:, 15],})"
   ]
  },
  {
   "cell_type": "code",
   "execution_count": 24,
   "metadata": {},
   "outputs": [
    {
     "data": {
      "text/html": [
       "<div>\n",
       "<style scoped>\n",
       "    .dataframe tbody tr th:only-of-type {\n",
       "        vertical-align: middle;\n",
       "    }\n",
       "\n",
       "    .dataframe tbody tr th {\n",
       "        vertical-align: top;\n",
       "    }\n",
       "\n",
       "    .dataframe thead th {\n",
       "        text-align: right;\n",
       "    }\n",
       "</style>\n",
       "<table border=\"1\" class=\"dataframe\">\n",
       "  <thead>\n",
       "    <tr style=\"text-align: right;\">\n",
       "      <th></th>\n",
       "      <th>Feature1</th>\n",
       "      <th>Feature2</th>\n",
       "      <th>Feature3</th>\n",
       "      <th>Feature4</th>\n",
       "      <th>Feature5</th>\n",
       "      <th>Feature6</th>\n",
       "      <th>Feature7</th>\n",
       "      <th>Feature8</th>\n",
       "      <th>Feature9</th>\n",
       "      <th>Feature10</th>\n",
       "      <th>Feature11</th>\n",
       "      <th>Feature12</th>\n",
       "      <th>Dropout_Flag</th>\n",
       "      <th>Dropout_Prediction</th>\n",
       "      <th>Probability_0</th>\n",
       "      <th>Probability_1</th>\n",
       "    </tr>\n",
       "  </thead>\n",
       "  <tbody>\n",
       "    <tr>\n",
       "      <th>0</th>\n",
       "      <td>3.024308</td>\n",
       "      <td>2.962937</td>\n",
       "      <td>1.856483</td>\n",
       "      <td>0.782304</td>\n",
       "      <td>0.150485</td>\n",
       "      <td>-3.076271</td>\n",
       "      <td>-0.644588</td>\n",
       "      <td>-1.011569</td>\n",
       "      <td>-0.036444</td>\n",
       "      <td>0.662926</td>\n",
       "      <td>-0.196389</td>\n",
       "      <td>-1.488156</td>\n",
       "      <td>1.0</td>\n",
       "      <td>1.0</td>\n",
       "      <td>0.030263</td>\n",
       "      <td>0.969737</td>\n",
       "    </tr>\n",
       "    <tr>\n",
       "      <th>1</th>\n",
       "      <td>3.994491</td>\n",
       "      <td>-3.838898</td>\n",
       "      <td>-0.333743</td>\n",
       "      <td>1.212049</td>\n",
       "      <td>-0.818522</td>\n",
       "      <td>0.866682</td>\n",
       "      <td>-0.913599</td>\n",
       "      <td>-0.087083</td>\n",
       "      <td>0.028076</td>\n",
       "      <td>0.629404</td>\n",
       "      <td>-0.152059</td>\n",
       "      <td>-0.044830</td>\n",
       "      <td>1.0</td>\n",
       "      <td>1.0</td>\n",
       "      <td>0.068498</td>\n",
       "      <td>0.931502</td>\n",
       "    </tr>\n",
       "    <tr>\n",
       "      <th>2</th>\n",
       "      <td>5.547270</td>\n",
       "      <td>3.645260</td>\n",
       "      <td>-5.733961</td>\n",
       "      <td>-0.329941</td>\n",
       "      <td>4.018681</td>\n",
       "      <td>-0.681461</td>\n",
       "      <td>-0.493330</td>\n",
       "      <td>0.009627</td>\n",
       "      <td>-0.166700</td>\n",
       "      <td>0.519773</td>\n",
       "      <td>0.785093</td>\n",
       "      <td>0.093096</td>\n",
       "      <td>0.0</td>\n",
       "      <td>0.0</td>\n",
       "      <td>0.995384</td>\n",
       "      <td>0.004616</td>\n",
       "    </tr>\n",
       "    <tr>\n",
       "      <th>3</th>\n",
       "      <td>-11.686937</td>\n",
       "      <td>4.235749</td>\n",
       "      <td>1.512289</td>\n",
       "      <td>0.545148</td>\n",
       "      <td>0.525135</td>\n",
       "      <td>2.153887</td>\n",
       "      <td>1.874638</td>\n",
       "      <td>0.132846</td>\n",
       "      <td>-0.238268</td>\n",
       "      <td>-0.597994</td>\n",
       "      <td>-0.310800</td>\n",
       "      <td>0.212354</td>\n",
       "      <td>0.0</td>\n",
       "      <td>0.0</td>\n",
       "      <td>0.980823</td>\n",
       "      <td>0.019177</td>\n",
       "    </tr>\n",
       "    <tr>\n",
       "      <th>4</th>\n",
       "      <td>2.104262</td>\n",
       "      <td>3.141267</td>\n",
       "      <td>-5.588404</td>\n",
       "      <td>0.364995</td>\n",
       "      <td>-2.980180</td>\n",
       "      <td>-1.662933</td>\n",
       "      <td>-1.973960</td>\n",
       "      <td>-0.386493</td>\n",
       "      <td>-0.388592</td>\n",
       "      <td>-0.204919</td>\n",
       "      <td>-0.445128</td>\n",
       "      <td>0.115711</td>\n",
       "      <td>1.0</td>\n",
       "      <td>1.0</td>\n",
       "      <td>0.083351</td>\n",
       "      <td>0.916649</td>\n",
       "    </tr>\n",
       "  </tbody>\n",
       "</table>\n",
       "</div>"
      ],
      "text/plain": [
       "    Feature1  Feature2  Feature3  Feature4  Feature5  Feature6  Feature7  \\\n",
       "0   3.024308  2.962937  1.856483  0.782304  0.150485 -3.076271 -0.644588   \n",
       "1   3.994491 -3.838898 -0.333743  1.212049 -0.818522  0.866682 -0.913599   \n",
       "2   5.547270  3.645260 -5.733961 -0.329941  4.018681 -0.681461 -0.493330   \n",
       "3 -11.686937  4.235749  1.512289  0.545148  0.525135  2.153887  1.874638   \n",
       "4   2.104262  3.141267 -5.588404  0.364995 -2.980180 -1.662933 -1.973960   \n",
       "\n",
       "   Feature8  Feature9  Feature10  Feature11  Feature12  Dropout_Flag  \\\n",
       "0 -1.011569 -0.036444   0.662926  -0.196389  -1.488156           1.0   \n",
       "1 -0.087083  0.028076   0.629404  -0.152059  -0.044830           1.0   \n",
       "2  0.009627 -0.166700   0.519773   0.785093   0.093096           0.0   \n",
       "3  0.132846 -0.238268  -0.597994  -0.310800   0.212354           0.0   \n",
       "4 -0.386493 -0.388592  -0.204919  -0.445128   0.115711           1.0   \n",
       "\n",
       "   Dropout_Prediction  Probability_0  Probability_1  \n",
       "0                 1.0       0.030263       0.969737  \n",
       "1                 1.0       0.068498       0.931502  \n",
       "2                 0.0       0.995384       0.004616  \n",
       "3                 0.0       0.980823       0.019177  \n",
       "4                 1.0       0.083351       0.916649  "
      ]
     },
     "execution_count": 24,
     "metadata": {},
     "output_type": "execute_result"
    }
   ],
   "source": [
    "Testing_output.head(5)"
   ]
  },
  {
   "cell_type": "code",
   "execution_count": 25,
   "metadata": {},
   "outputs": [],
   "source": [
    "def Flag(x):\n",
    "    if (x['Dropout_Flag'] == x['Dropout_Prediction'] ) : \n",
    "        return 'Correct Pred'\n",
    "    if (x['Dropout_Flag'] > x['Dropout_Prediction'] ) : \n",
    "        return 'False Negative'\n",
    "    if (x['Dropout_Flag'] < x['Dropout_Prediction'] ) : \n",
    "        return 'False Positive'\n",
    "    \n",
    "\n",
    "\n",
    "Testing_output['Prediction_Flag'] = Testing_output.apply(Flag, axis = 1)\n",
    "\n",
    "Testing_output['Prediction_Flag'].unique()\n",
    "\n",
    "summary = Testing_output.groupby('Prediction_Flag').agg({'Probability_0' : ['min','max'],'Probability_1' : ['min','max']} )"
   ]
  },
  {
   "cell_type": "code",
   "execution_count": 26,
   "metadata": {},
   "outputs": [
    {
     "data": {
      "text/html": [
       "<div>\n",
       "<style scoped>\n",
       "    .dataframe tbody tr th:only-of-type {\n",
       "        vertical-align: middle;\n",
       "    }\n",
       "\n",
       "    .dataframe tbody tr th {\n",
       "        vertical-align: top;\n",
       "    }\n",
       "\n",
       "    .dataframe thead tr th {\n",
       "        text-align: left;\n",
       "    }\n",
       "\n",
       "    .dataframe thead tr:last-of-type th {\n",
       "        text-align: right;\n",
       "    }\n",
       "</style>\n",
       "<table border=\"1\" class=\"dataframe\">\n",
       "  <thead>\n",
       "    <tr>\n",
       "      <th></th>\n",
       "      <th colspan=\"2\" halign=\"left\">Probability_0</th>\n",
       "      <th colspan=\"2\" halign=\"left\">Probability_1</th>\n",
       "    </tr>\n",
       "    <tr>\n",
       "      <th></th>\n",
       "      <th>min</th>\n",
       "      <th>max</th>\n",
       "      <th>min</th>\n",
       "      <th>max</th>\n",
       "    </tr>\n",
       "    <tr>\n",
       "      <th>Prediction_Flag</th>\n",
       "      <th></th>\n",
       "      <th></th>\n",
       "      <th></th>\n",
       "      <th></th>\n",
       "    </tr>\n",
       "  </thead>\n",
       "  <tbody>\n",
       "    <tr>\n",
       "      <th>Correct Pred</th>\n",
       "      <td>0.008940</td>\n",
       "      <td>1.000000</td>\n",
       "      <td>8.501727e-38</td>\n",
       "      <td>0.991060</td>\n",
       "    </tr>\n",
       "    <tr>\n",
       "      <th>False Negative</th>\n",
       "      <td>0.619046</td>\n",
       "      <td>0.788824</td>\n",
       "      <td>2.111760e-01</td>\n",
       "      <td>0.380954</td>\n",
       "    </tr>\n",
       "  </tbody>\n",
       "</table>\n",
       "</div>"
      ],
      "text/plain": [
       "                Probability_0           Probability_1          \n",
       "                          min       max           min       max\n",
       "Prediction_Flag                                                \n",
       "Correct Pred         0.008940  1.000000  8.501727e-38  0.991060\n",
       "False Negative       0.619046  0.788824  2.111760e-01  0.380954"
      ]
     },
     "execution_count": 26,
     "metadata": {},
     "output_type": "execute_result"
    }
   ],
   "source": [
    "summary"
   ]
  },
  {
   "cell_type": "code",
   "execution_count": 27,
   "metadata": {},
   "outputs": [],
   "source": [
    "Testing_output.to_csv(\"Testing_output.csv\")"
   ]
  },
  {
   "cell_type": "markdown",
   "metadata": {},
   "source": [
    "# Predict probability of dropouts for all students currently studying at primary level and above (Current_students.csv), using our trained model"
   ]
  },
  {
   "cell_type": "code",
   "execution_count": 28,
   "metadata": {},
   "outputs": [
    {
     "data": {
      "text/plain": [
       "(9032, 4)"
      ]
     },
     "execution_count": 28,
     "metadata": {},
     "output_type": "execute_result"
    }
   ],
   "source": [
    "#Current_students.csv contains education particulars of students currently studying at primarly level and above  \n",
    "current_students = pd.read_csv(\"Current_students.csv\")\n",
    "household_mem = pd.read_csv(\"Household_members.csv\")\n",
    "\n",
    "# Again, considering ages between 5-29 for current students\n",
    "current_students = current_students[(current_students['AGE'] >= 5) & (current_students['AGE'] <= 29)]\n",
    "current_students.head()\n",
    "\n",
    "# Create unique identifier for each individual using ID_KEY (Household Key) and Sr_No (Household member ID)\n",
    "current_students.dropna(subset = [\"SR_NO\"], inplace=True)\n",
    "current_students['SR_NO'] = current_students['SR_NO'].astype(int)\n",
    "current_students['Individual_ID'] = current_students[\"ID_KEY\"].astype(str) + current_students[\"SR_NO\"].astype(str)\n",
    "\n",
    "# Subsetting individual level variables to be brought into the data from household_members\n",
    "household_mem = household_mem[household_mem['CUR_EDU_STATUS'] == 7] #Education status code for students in primary and above\n",
    "household_mem.shape\n",
    "household_mem.dropna(subset = [\"SR_NO\"], inplace=True)\n",
    "household_mem['SR_NO'] = household_mem['SR_NO'].astype(int)\n",
    "household_mem['Individual_ID'] = household_mem[\"ID_KEY\"].astype(str) + household_mem[\"SR_NO\"].astype(str)\n",
    "\n",
    "individual_var = household_mem[['REL_HEAD','SEX','MARTIAL_STATUS_CD','Individual_ID']]\n",
    "individual_var.shape"
   ]
  },
  {
   "cell_type": "code",
   "execution_count": 38,
   "metadata": {},
   "outputs": [
    {
     "data": {
      "text/plain": [
       "(9075, 49)"
      ]
     },
     "execution_count": 38,
     "metadata": {},
     "output_type": "execute_result"
    }
   ],
   "source": []
  },
  {
   "cell_type": "code",
   "execution_count": 30,
   "metadata": {},
   "outputs": [
    {
     "data": {
      "text/plain": [
       "(8473, 14)"
      ]
     },
     "execution_count": 30,
     "metadata": {},
     "output_type": "execute_result"
    }
   ],
   "source": [
    "# Adding household level variables from household_char, individual variables from individual_var\n",
    "all_variables = pd.merge(current_students, household_char, how = 'left', on = 'ID_KEY')\n",
    "all_variables = pd.merge(all_variables, individual_var, how = 'left', on = 'Individual_ID')\n",
    "\n",
    "#Subsetting to include features variables required to run Naive Bayes model\n",
    "socioeconomic_variables = all_variables[[\"REL_HEAD\",\"SEX\",\"AGE\",\"MARTIAL_STATUS_CD\",\"HSIZE\",\"HTYPE\",\"SG_CD\",'DISTANCE_PRM',\n",
    "                                         'DISTANCE_UPP_PRM',\n",
    "                                         'DISTANCE_SEC','WHE_HH_COMP','WHE_HH_INT','CONS_EXP_BUCKET', 'Individual_ID']]\n",
    "socioeconomic_variables = socioeconomic_variables.dropna()\n",
    "socioeconomic_variables.shape"
   ]
  },
  {
   "cell_type": "markdown",
   "metadata": {},
   "source": [
    "# Data transformation"
   ]
  },
  {
   "cell_type": "code",
   "execution_count": 31,
   "metadata": {},
   "outputs": [],
   "source": [
    "NB_input = socioeconomic_variables[[\"REL_HEAD\",\"SEX\",\"AGE\",\"MARTIAL_STATUS_CD\",\"HSIZE\",\"HTYPE\",\"SG_CD\",'DISTANCE_PRM','DISTANCE_UPP_PRM',\n",
    "                                    'DISTANCE_SEC','WHE_HH_COMP','WHE_HH_INT','CONS_EXP_BUCKET']]\n",
    "NB_input = NB_input.dropna()\n",
    "\n",
    "NB_transformedInput = PCA_model.fit_transform(NB_input)*(-1)"
   ]
  },
  {
   "cell_type": "code",
   "execution_count": 41,
   "metadata": {},
   "outputs": [
    {
     "data": {
      "text/plain": [
       "(8473, 3)"
      ]
     },
     "execution_count": 41,
     "metadata": {},
     "output_type": "execute_result"
    }
   ],
   "source": [
    "#NB_input.shape\n",
    "combined_output.shape\n"
   ]
  },
  {
   "cell_type": "code",
   "execution_count": 64,
   "metadata": {},
   "outputs": [],
   "source": [
    "# aggregating Outputs of NB\n",
    "predictions = model.predict(NB_transformedInput)\n",
    "probabilities = model.predict_proba(NB_transformedInput)\n",
    "\n",
    "combined_output = np.column_stack((predictions,probabilities))\n",
    "combined_output.shape\n",
    "\n",
    "# aggregating Outputs of NB into a dataframe along with the current student variables\n",
    "combined_output = pd.DataFrame({'DropoutPrediction': combined_output[:, 0], 'Probability_NoDrop': combined_output[:, 1],\n",
    "                                'Probability_Drop': combined_output[:, 2]})\n",
    "\n",
    "Individual_IDs = pd.DataFrame(socioeconomic_variables['Individual_ID'])\n",
    "Individual_IDs = Individual_IDs.reset_index()\n",
    "CurrentStudents_Predictions = pd.concat([Individual_IDs, combined_output], axis=1, ignore_index=False)\n",
    "CurrentStudents_Predictions = pd.merge(CurrentStudents_Predictions,current_students, how='inner', on = 'Individual_ID' )"
   ]
  },
  {
   "cell_type": "markdown",
   "metadata": {},
   "source": [
    "\n",
    "### 1. Identify target students at high risk of dropping out"
   ]
  },
  {
   "cell_type": "code",
   "execution_count": 67,
   "metadata": {},
   "outputs": [
    {
     "data": {
      "text/plain": [
       "(2380, 41)"
      ]
     },
     "execution_count": 67,
     "metadata": {},
     "output_type": "execute_result"
    }
   ],
   "source": [
    "# Although our model has no false positives, we will only consider students with a predicted dropout probability > 75% \n",
    "Target_students = CurrentStudents_Predictions[(CurrentStudents_Predictions['Probability_Drop'] > 0.75) & \n",
    "                                              (CurrentStudents_Predictions['DropoutPrediction'] == 1)]\n",
    "Target_students.shape"
   ]
  },
  {
   "cell_type": "code",
   "execution_count": 75,
   "metadata": {},
   "outputs": [
    {
     "data": {
      "text/plain": [
       "(1755, 41)"
      ]
     },
     "execution_count": 75,
     "metadata": {},
     "output_type": "execute_result"
    }
   ],
   "source": [
    "# Removing students that have their education fully funded (Education_Free_Code = 1) \n",
    "Target_students = Target_students[(Target_students['EDUCATION_FREE'] != 1)]\n",
    "\n",
    "Target_students.shape"
   ]
  },
  {
   "cell_type": "markdown",
   "metadata": {},
   "source": [
    "## Now to predict subsidy amounts, the steps are -\n",
    "### 1. Create training data containing particulars of education expenses for K-nearest-neighbors regression model \n",
    "### 2. Predict subsidy/scholarship amount for target students by building KNN model from scratch"
   ]
  },
  {
   "cell_type": "code",
   "execution_count": 99,
   "metadata": {},
   "outputs": [],
   "source": [
    "# Bringing in target variable 'Total educational expenditure' from educational expenditure data of current students \n",
    "CurrentStudent_Expenses = pd.read_csv(\"CurrentStudents_EducationExpenses.csv\")\n",
    "CurrentStudent_Expenses.dropna(subset = [\"SR_NO\"], inplace=True)\n",
    "CurrentStudent_Expenses['SR_NO'] = CurrentStudent_Expenses['SR_NO'].astype(int)\n",
    "CurrentStudent_Expenses['Individual_ID'] = CurrentStudent_Expenses[\"ID_KEY\"].astype(str) + CurrentStudent_Expenses[\"SR_NO\"].astype(str)\n",
    "    \n",
    "CurrentStudent_Expenses = CurrentStudent_Expenses[(CurrentStudent_Expenses['AGE'] >= 5) & (CurrentStudent_Expenses['AGE'] <= 29)]\n",
    "CurrentStudent_Expenses = CurrentStudent_Expenses[['Individual_ID','TOTAL_EXPENDITURE']]\n",
    "\n",
    "education_particulars =  pd.merge(current_students, CurrentStudent_Expenses,on = 'Individual_ID', how='inner')"
   ]
  },
  {
   "cell_type": "code",
   "execution_count": 103,
   "metadata": {
    "scrolled": true
   },
   "outputs": [
    {
     "data": {
      "text/plain": [
       "(5656, 11)"
      ]
     },
     "execution_count": 103,
     "metadata": {},
     "output_type": "execute_result"
    }
   ],
   "source": [
    "list(education_particulars.columns)\n",
    "education_particulars = education_particulars[['LEV_CURR_ATTEND','COURSE_CD','INSTITUTION_CD','TYPE_COURSE_CD','FEE_WAIVED',\n",
    "                                               'RECVD_TXT_BOOK_CD','RECVD_STAT_CD','FREE_MID_DAY_MEAL',\n",
    "                                               'TRANSPORT_CD','DIST_RESIDENCE','TOTAL_EXPENDITURE']]\n",
    "education_particulars = education_particulars.dropna()\n",
    "\n",
    "education_particulars.shape"
   ]
  },
  {
   "cell_type": "code",
   "execution_count": 107,
   "metadata": {},
   "outputs": [],
   "source": [
    "# Creating list of variables to be considered while computing subsidy amount using KNN\n",
    "feature_list = ['LEV_CURR_ATTEND','COURSE_CD','INSTITUTION_CD','TYPE_COURSE_CD','FEE_WAIVED',\n",
    "                 'RECVD_TXT_BOOK_CD','RECVD_STAT_CD','FREE_MID_DAY_MEAL','TRANSPORT_CD','DIST_RESIDENCE']"
   ]
  },
  {
   "cell_type": "code",
   "execution_count": 108,
   "metadata": {},
   "outputs": [],
   "source": [
    "def get_numpy_data(data_frame, features, output):\n",
    "    data_frame['constant'] = 1 # add constant column\n",
    "    features = ['constant'] + features \n",
    "    features_frame = data_frame[features]\n",
    "    feature_matrix = features_frame.to_numpy()\n",
    "    output_array = data_frame[output]\n",
    "    output_array = output_array.to_numpy()\n",
    "    return(feature_matrix, output_array)"
   ]
  },
  {
   "cell_type": "code",
   "execution_count": 109,
   "metadata": {},
   "outputs": [],
   "source": [
    "def normalize_features(feature_matrix):\n",
    "    norms = np.linalg.norm(feature_matrix, axis=0)\n",
    "    normalized_features = feature_matrix/norms\n",
    "    return(normalized_features,norms)"
   ]
  },
  {
   "cell_type": "code",
   "execution_count": 110,
   "metadata": {},
   "outputs": [],
   "source": [
    "train_and_validation, test = train_test_split(education_particulars, test_size=0.2,random_state=109)\n",
    "train, validation = train_test_split(train_and_validation, test_size=0.2,random_state=109)"
   ]
  },
  {
   "cell_type": "code",
   "execution_count": 111,
   "metadata": {},
   "outputs": [
    {
     "name": "stderr",
     "output_type": "stream",
     "text": [
      "<ipython-input-108-769ee97a4a09>:2: SettingWithCopyWarning: \n",
      "A value is trying to be set on a copy of a slice from a DataFrame.\n",
      "Try using .loc[row_indexer,col_indexer] = value instead\n",
      "\n",
      "See the caveats in the documentation: https://pandas.pydata.org/pandas-docs/stable/user_guide/indexing.html#returning-a-view-versus-a-copy\n",
      "  data_frame['constant'] = 1 # add constant column\n"
     ]
    }
   ],
   "source": [
    "features_train, output_train = get_numpy_data(train, feature_list, 'TOTAL_EXPENDITURE')\n",
    "features_test, output_test = get_numpy_data(test, feature_list, 'TOTAL_EXPENDITURE')\n",
    "features_valid, output_valid = get_numpy_data(validation, feature_list, 'TOTAL_EXPENDITURE')"
   ]
  },
  {
   "cell_type": "code",
   "execution_count": 112,
   "metadata": {},
   "outputs": [],
   "source": [
    "features_train, norms = normalize_features(features_train) # normalize training set features (columns)\n",
    "features_test = features_test / norms # normalize test set by training set norms\n",
    "features_valid = features_valid / norms # normalize validation set by training set norms"
   ]
  },
  {
   "cell_type": "code",
   "execution_count": 114,
   "metadata": {},
   "outputs": [
    {
     "name": "stdout",
     "output_type": "stream",
     "text": [
      "0.019455192128930838\n"
     ]
    }
   ],
   "source": [
    "euclidean_distance = np.sqrt(np.sum((features_train[9] - features_test[0])**2))\n",
    "print(euclidean_distance)"
   ]
  },
  {
   "cell_type": "code",
   "execution_count": 115,
   "metadata": {},
   "outputs": [],
   "source": [
    "def compute_distance(train_features,query):\n",
    "    diff = train_features - query\n",
    "    dist = np.sqrt(np.sum(diff**2, axis=1))\n",
    "    return dist"
   ]
  },
  {
   "cell_type": "code",
   "execution_count": 116,
   "metadata": {},
   "outputs": [],
   "source": [
    "def k_nearest_neighbors(k,feature_train, query):\n",
    "    distances = compute_distance(feature_train, query)\n",
    "    return np.argsort(distances, axis=0)[:k]"
   ]
  },
  {
   "cell_type": "code",
   "execution_count": 124,
   "metadata": {},
   "outputs": [],
   "source": [
    "train = train.reset_index()"
   ]
  },
  {
   "cell_type": "code",
   "execution_count": 132,
   "metadata": {},
   "outputs": [
    {
     "name": "stdout",
     "output_type": "stream",
     "text": [
      "31\n"
     ]
    },
    {
     "data": {
      "text/plain": [
       "6900.0"
      ]
     },
     "execution_count": 132,
     "metadata": {},
     "output_type": "execute_result"
    }
   ],
   "source": [
    "dist_arr = compute_distance(features_train, features_test[2])\n",
    "print(np.argmin(dist_arr))\n",
    "train.iloc[2966]['TOTAL_EXPENDITURE']"
   ]
  },
  {
   "cell_type": "code",
   "execution_count": 134,
   "metadata": {},
   "outputs": [
    {
     "name": "stdout",
     "output_type": "stream",
     "text": [
      "[3618 3048 1364 1359]\n"
     ]
    }
   ],
   "source": [
    "neighbors = k_nearest_neighbors(4,features_train,features_test[2])\n",
    "print(neighbors)"
   ]
  },
  {
   "cell_type": "code",
   "execution_count": 164,
   "metadata": {},
   "outputs": [],
   "source": [
    "def predict_value(k, features_train,output_train,query):\n",
    "    neighbors = k_nearest_neighbors(k,features_train, query)\n",
    "    sum = 0\n",
    "    for i in neighbors:\n",
    "        sum = sum + output_train[i]\n",
    "    price = sum/k\n",
    "    return price"
   ]
  },
  {
   "cell_type": "code",
   "execution_count": 165,
   "metadata": {},
   "outputs": [],
   "source": [
    "def multiple_predictions(k, features_train, output_train, query):\n",
    "    num_of_rows = query.shape[0]\n",
    "    predicted_values = []\n",
    "    for i in range(num_of_rows):\n",
    "        value = predict_value(k,features_train, output_train,query[i])\n",
    "        predicted_values.append(value)\n",
    "    return predicted_values"
   ]
  },
  {
   "cell_type": "code",
   "execution_count": 138,
   "metadata": {},
   "outputs": [
    {
     "name": "stdout",
     "output_type": "stream",
     "text": [
      "[2489761245129.0, 2785002388991.5, 2315792166703.9883, 2149473806964.9375, 2031743765725.0, 2037643818734.5493, 1951636920857.5723, 1907267142634.8594, 1879465799733.3167, 1847398302921.75, 1832549887936.4597, 1807237539776.5852, 1788825570513.6326, 1772801860294.0547, 1754791316967.5532]\n"
     ]
    }
   ],
   "source": [
    "rss_all = []\n",
    "for k in range(1,16):\n",
    "    value = multiple_predictions(k, features_train,output_train,features_valid)\n",
    "    residual = (output_valid - value)\n",
    "    rss = sum(residual**2)\n",
    "    rss_all.append(rss)\n",
    "print(rss_all)"
   ]
  },
  {
   "cell_type": "code",
   "execution_count": 139,
   "metadata": {},
   "outputs": [
    {
     "data": {
      "text/plain": [
       "[<matplotlib.lines.Line2D at 0x207f6a27c10>]"
      ]
     },
     "execution_count": 139,
     "metadata": {},
     "output_type": "execute_result"
    },
    {
     "data": {
      "image/png": "[encoded data removed]",
      "text/plain": [
       "<Figure size 432x288 with 1 Axes>"
      ]
     },
     "metadata": {
      "needs_background": "light"
     },
     "output_type": "display_data"
    }
   ],
   "source": [
    "import matplotlib.pyplot as plt\n",
    "%matplotlib inline\n",
    "\n",
    "kvals = range(1, 16)\n",
    "plt.plot(kvals, rss_all,'bo-')"
   ]
  },
  {
   "cell_type": "markdown",
   "metadata": {},
   "source": [
    "## Now, transforming target students' educational particulars as required for KNN, and predicting amounts"
   ]
  },
  {
   "cell_type": "code",
   "execution_count": 160,
   "metadata": {},
   "outputs": [],
   "source": [
    "def get_transformed_data(data_sframe, features):\n",
    "    data_sframe['constant'] = 1 # add constant column\n",
    "    features = ['constant'] + features \n",
    "    features_sframe = data_sframe[features]\n",
    "    feature_matrix = features_sframe.to_numpy()\n",
    "    return(feature_matrix)"
   ]
  },
  {
   "cell_type": "code",
   "execution_count": 180,
   "metadata": {},
   "outputs": [
    {
     "data": {
      "text/plain": [
       "1755"
      ]
     },
     "execution_count": 180,
     "metadata": {},
     "output_type": "execute_result"
    }
   ],
   "source": [
    "Target_students = Target_students[feature_list]\n",
    "\n",
    "Target_features = get_transformed_data(Target_students, feature_list)\n",
    "\n",
    "Target_features = Target_features / norms\n",
    "\n",
    "Subsidy_Amounts = pd.Series(multiple_predictions(14, features_train, output_train, Target_features))\n",
    "len(Subsidy_Amounts)"
   ]
  },
  {
   "cell_type": "code",
   "execution_count": 181,
   "metadata": {},
   "outputs": [
    {
     "data": {
      "text/plain": [
       "(1755, 13)"
      ]
     },
     "execution_count": 181,
     "metadata": {},
     "output_type": "execute_result"
    }
   ],
   "source": [
    "Target_students = Target_students.reset_index()\n",
    "TargetStudent_Subsidies = pd.concat([Target_students, Subsidy_Amounts], axis=1, ignore_index=False)\n",
    "TargetStudent_Subsidies.shape"
   ]
  },
  {
   "cell_type": "code",
   "execution_count": null,
   "metadata": {},
   "outputs": [],
   "source": []
  }
 ],
 "metadata": {
  "kernelspec": {
   "display_name": "Python 3",
   "language": "python",
   "name": "python3"
  },
  "language_info": {
   "codemirror_mode": {
    "name": "ipython",
    "version": 3
   },
   "file_extension": ".py",
   "mimetype": "text/x-python",
   "name": "python",
   "nbconvert_exporter": "python",
   "pygments_lexer": "ipython3",
   "version": "3.8.3"
  }
 },
 "nbformat": 4,
 "nbformat_minor": 4
}
